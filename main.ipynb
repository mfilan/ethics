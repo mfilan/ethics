{
 "cells": [
  {
   "cell_type": "markdown",
   "metadata": {
    "pycharm": {
     "name": "#%% md\n"
    }
   },
   "source": [
    "### Imports"
   ]
  },
  {
   "cell_type": "code",
   "execution_count": 68,
   "metadata": {
    "pycharm": {
     "name": "#%%\n"
    }
   },
   "outputs": [],
   "source": [
    "from src.methods import (SafeLevelSmote,BorderlineSMOTE,OneSidedSelection)\n",
    "from src.c45 import C45\n",
    "import pandas as pd\n",
    "from collections import Counter\n",
    "from sklearn.datasets import make_classification\n",
    "from sklearn.model_selection import cross_val_predict\n",
    "from sklearn.metrics import classification_report\n",
    "import matplotlib.pyplot as plt\n",
    "import numpy as np"
   ]
  },
  {
   "cell_type": "markdown",
   "metadata": {
    "pycharm": {
     "name": "#%% md\n"
    }
   },
   "source": [
    "### Calculate performance metrics based on C4.5 classification"
   ]
  },
  {
   "cell_type": "code",
   "execution_count": 69,
   "metadata": {
    "pycharm": {
     "name": "#%%\n"
    }
   },
   "outputs": [],
   "source": [
    "def score_data(x: np.array, y: np.array, cv=5) -> pd.DataFrame:\n",
    "\tclf = C45()\n",
    "\ty_pred = cross_val_predict(clf, x, y, cv=cv)\n",
    "\treturn pd.DataFrame(classification_report(y,y_pred,output_dict=True))"
   ]
  },
  {
   "cell_type": "code",
   "execution_count": 70,
   "metadata": {
    "pycharm": {
     "name": "#%%\n"
    }
   },
   "outputs": [],
   "source": [
    "def visualize_points(X, y) -> None:\n",
    "    c =['tab:orange' if i ==1 else \"tab:blue\" for i in y]\n",
    "    plt.scatter(X[:, 0], X[:, 1], c=c)\n",
    "    plt.show()"
   ]
  },
  {
   "cell_type": "markdown",
   "metadata": {
    "pycharm": {
     "name": "#%% md\n"
    }
   },
   "source": [
    "### Datasets"
   ]
  },
  {
   "cell_type": "markdown",
   "metadata": {
    "pycharm": {
     "name": "#%% md\n"
    }
   },
   "source": [
    "#### Dummy dataset"
   ]
  },
  {
   "cell_type": "code",
   "execution_count": 71,
   "metadata": {
    "pycharm": {
     "name": "#%%\n"
    }
   },
   "outputs": [
    {
     "name": "stdout",
     "output_type": "stream",
     "text": [
      "Counter({0: 990, 1: 10})\n"
     ]
    },
    {
     "data": {
      "image/png": "[encoded data removed]",
      "text/plain": [
       "<Figure size 432x288 with 1 Axes>"
      ]
     },
     "metadata": {
      "needs_background": "light"
     },
     "output_type": "display_data"
    }
   ],
   "source": [
    "dummy_X, dummy_y = make_classification(n_samples=1000, n_features=2, n_redundant=0,\n",
    "\tn_clusters_per_class=1, weights=[0.99], flip_y=0, random_state=1)\n",
    "counter = Counter(dummy_y)\n",
    "print(counter)\n",
    "for label, _ in counter.items():\n",
    "\trow_ix = np.where(dummy_y == label)[0]\n",
    "\tplt.scatter(dummy_X[row_ix, 0], dummy_X[row_ix, 1], label=str(label))\n",
    "plt.legend()\n",
    "plt.show()"
   ]
  },
  {
   "cell_type": "markdown",
   "metadata": {
    "pycharm": {
     "name": "#%% md\n"
    }
   },
   "source": [
    "##### Base performance"
   ]
  },
  {
   "cell_type": "code",
   "execution_count": 72,
   "metadata": {
    "pycharm": {
     "name": "#%%\n"
    }
   },
   "outputs": [
    {
     "data": {
      "text/html": [
       "<div>\n",
       "<style scoped>\n",
       "    .dataframe tbody tr th:only-of-type {\n",
       "        vertical-align: middle;\n",
       "    }\n",
       "\n",
       "    .dataframe tbody tr th {\n",
       "        vertical-align: top;\n",
       "    }\n",
       "\n",
       "    .dataframe thead th {\n",
       "        text-align: right;\n",
       "    }\n",
       "</style>\n",
       "<table border=\"1\" class=\"dataframe\">\n",
       "  <thead>\n",
       "    <tr style=\"text-align: right;\">\n",
       "      <th></th>\n",
       "      <th>0</th>\n",
       "      <th>1</th>\n",
       "      <th>accuracy</th>\n",
       "      <th>macro avg</th>\n",
       "      <th>weighted avg</th>\n",
       "    </tr>\n",
       "  </thead>\n",
       "  <tbody>\n",
       "    <tr>\n",
       "      <th>precision</th>\n",
       "      <td>0.995964</td>\n",
       "      <td>0.666667</td>\n",
       "      <td>0.993</td>\n",
       "      <td>0.831315</td>\n",
       "      <td>0.992671</td>\n",
       "    </tr>\n",
       "    <tr>\n",
       "      <th>recall</th>\n",
       "      <td>0.996970</td>\n",
       "      <td>0.600000</td>\n",
       "      <td>0.993</td>\n",
       "      <td>0.798485</td>\n",
       "      <td>0.993000</td>\n",
       "    </tr>\n",
       "    <tr>\n",
       "      <th>f1-score</th>\n",
       "      <td>0.996466</td>\n",
       "      <td>0.631579</td>\n",
       "      <td>0.993</td>\n",
       "      <td>0.814023</td>\n",
       "      <td>0.992818</td>\n",
       "    </tr>\n",
       "    <tr>\n",
       "      <th>support</th>\n",
       "      <td>990.000000</td>\n",
       "      <td>10.000000</td>\n",
       "      <td>0.993</td>\n",
       "      <td>1000.000000</td>\n",
       "      <td>1000.000000</td>\n",
       "    </tr>\n",
       "  </tbody>\n",
       "</table>\n",
       "</div>"
      ],
      "text/plain": [
       "                    0          1  accuracy    macro avg  weighted avg\n",
       "precision    0.995964   0.666667     0.993     0.831315      0.992671\n",
       "recall       0.996970   0.600000     0.993     0.798485      0.993000\n",
       "f1-score     0.996466   0.631579     0.993     0.814023      0.992818\n",
       "support    990.000000  10.000000     0.993  1000.000000   1000.000000"
      ]
     },
     "metadata": {},
     "output_type": "display_data"
    }
   ],
   "source": [
    "base_scores_dummy = score_data(dummy_X, dummy_y)\n",
    "display(base_scores_dummy)"
   ]
  },
  {
   "cell_type": "markdown",
   "metadata": {
    "pycharm": {
     "name": "#%% md\n"
    }
   },
   "source": [
    "#### Satimage"
   ]
  },
  {
   "cell_type": "code",
   "execution_count": 73,
   "metadata": {
    "pycharm": {
     "name": "#%%\n"
    }
   },
   "outputs": [],
   "source": [
    "satimage_df = pd.read_csv('datasets/satimage.csv')\n",
    "satimage = satimage_df.to_numpy()\n",
    "satimage_X,satimage_y =satimage[:,:-1],satimage[:,-1]\n",
    "satimage_y = np.where(satimage_y==4.0,1.0,0.0)"
   ]
  },
  {
   "cell_type": "markdown",
   "metadata": {
    "pycharm": {
     "name": "#%% md\n"
    }
   },
   "source": [
    "##### Base performance"
   ]
  },
  {
   "cell_type": "code",
   "execution_count": 74,
   "metadata": {
    "pycharm": {
     "name": "#%%\n"
    }
   },
   "outputs": [
    {
     "data": {
      "text/html": [
       "<div>\n",
       "<style scoped>\n",
       "    .dataframe tbody tr th:only-of-type {\n",
       "        vertical-align: middle;\n",
       "    }\n",
       "\n",
       "    .dataframe tbody tr th {\n",
       "        vertical-align: top;\n",
       "    }\n",
       "\n",
       "    .dataframe thead th {\n",
       "        text-align: right;\n",
       "    }\n",
       "</style>\n",
       "<table border=\"1\" class=\"dataframe\">\n",
       "  <thead>\n",
       "    <tr style=\"text-align: right;\">\n",
       "      <th></th>\n",
       "      <th>0.0</th>\n",
       "      <th>1.0</th>\n",
       "      <th>accuracy</th>\n",
       "      <th>macro avg</th>\n",
       "      <th>weighted avg</th>\n",
       "    </tr>\n",
       "  </thead>\n",
       "  <tbody>\n",
       "    <tr>\n",
       "      <th>precision</th>\n",
       "      <td>0.952067</td>\n",
       "      <td>0.519345</td>\n",
       "      <td>0.906843</td>\n",
       "      <td>0.735706</td>\n",
       "      <td>0.910006</td>\n",
       "    </tr>\n",
       "    <tr>\n",
       "      <th>recall</th>\n",
       "      <td>0.944358</td>\n",
       "      <td>0.558400</td>\n",
       "      <td>0.906843</td>\n",
       "      <td>0.751379</td>\n",
       "      <td>0.906843</td>\n",
       "    </tr>\n",
       "    <tr>\n",
       "      <th>f1-score</th>\n",
       "      <td>0.948197</td>\n",
       "      <td>0.538165</td>\n",
       "      <td>0.906843</td>\n",
       "      <td>0.743181</td>\n",
       "      <td>0.908341</td>\n",
       "    </tr>\n",
       "    <tr>\n",
       "      <th>support</th>\n",
       "      <td>5805.000000</td>\n",
       "      <td>625.000000</td>\n",
       "      <td>0.906843</td>\n",
       "      <td>6430.000000</td>\n",
       "      <td>6430.000000</td>\n",
       "    </tr>\n",
       "  </tbody>\n",
       "</table>\n",
       "</div>"
      ],
      "text/plain": [
       "                   0.0         1.0  accuracy    macro avg  weighted avg\n",
       "precision     0.952067    0.519345  0.906843     0.735706      0.910006\n",
       "recall        0.944358    0.558400  0.906843     0.751379      0.906843\n",
       "f1-score      0.948197    0.538165  0.906843     0.743181      0.908341\n",
       "support    5805.000000  625.000000  0.906843  6430.000000   6430.000000"
      ]
     },
     "metadata": {},
     "output_type": "display_data"
    }
   ],
   "source": [
    "base_scores_satimage = score_data(satimage_X, satimage_y)\n",
    "display(base_scores_satimage)"
   ]
  },
  {
   "cell_type": "markdown",
   "metadata": {},
   "source": [
    "#### Ecoli"
   ]
  },
  {
   "cell_type": "code",
   "execution_count": 75,
   "metadata": {},
   "outputs": [],
   "source": [
    "ecoli_df = pd.read_table('https://archive.ics.uci.edu/ml/machine-learning-databases/ecoli/ecoli.data', delim_whitespace=True, header=None)\n",
    "ecoli_df = ecoli_df.to_numpy()\n",
    "ecoli_X, ecoli_y = ecoli_df[:,1:-1], ecoli_df[:,-1]\n",
    "ecoli_y = np.where(ecoli_y == 'om', 1.0, 0.0)"
   ]
  },
  {
   "cell_type": "markdown",
   "metadata": {},
   "source": [
    "##### Base performance"
   ]
  },
  {
   "cell_type": "code",
   "execution_count": 76,
   "metadata": {},
   "outputs": [
    {
     "data": {
      "text/html": [
       "<div>\n",
       "<style scoped>\n",
       "    .dataframe tbody tr th:only-of-type {\n",
       "        vertical-align: middle;\n",
       "    }\n",
       "\n",
       "    .dataframe tbody tr th {\n",
       "        vertical-align: top;\n",
       "    }\n",
       "\n",
       "    .dataframe thead th {\n",
       "        text-align: right;\n",
       "    }\n",
       "</style>\n",
       "<table border=\"1\" class=\"dataframe\">\n",
       "  <thead>\n",
       "    <tr style=\"text-align: right;\">\n",
       "      <th></th>\n",
       "      <th>0.0</th>\n",
       "      <th>1.0</th>\n",
       "      <th>accuracy</th>\n",
       "      <th>macro avg</th>\n",
       "      <th>weighted avg</th>\n",
       "    </tr>\n",
       "  </thead>\n",
       "  <tbody>\n",
       "    <tr>\n",
       "      <th>precision</th>\n",
       "      <td>0.977049</td>\n",
       "      <td>0.419355</td>\n",
       "      <td>0.925595</td>\n",
       "      <td>0.698202</td>\n",
       "      <td>0.943853</td>\n",
       "    </tr>\n",
       "    <tr>\n",
       "      <th>recall</th>\n",
       "      <td>0.943038</td>\n",
       "      <td>0.650000</td>\n",
       "      <td>0.925595</td>\n",
       "      <td>0.796519</td>\n",
       "      <td>0.925595</td>\n",
       "    </tr>\n",
       "    <tr>\n",
       "      <th>f1-score</th>\n",
       "      <td>0.959742</td>\n",
       "      <td>0.509804</td>\n",
       "      <td>0.925595</td>\n",
       "      <td>0.734773</td>\n",
       "      <td>0.932960</td>\n",
       "    </tr>\n",
       "    <tr>\n",
       "      <th>support</th>\n",
       "      <td>316.000000</td>\n",
       "      <td>20.000000</td>\n",
       "      <td>0.925595</td>\n",
       "      <td>336.000000</td>\n",
       "      <td>336.000000</td>\n",
       "    </tr>\n",
       "  </tbody>\n",
       "</table>\n",
       "</div>"
      ],
      "text/plain": [
       "                  0.0        1.0  accuracy   macro avg  weighted avg\n",
       "precision    0.977049   0.419355  0.925595    0.698202      0.943853\n",
       "recall       0.943038   0.650000  0.925595    0.796519      0.925595\n",
       "f1-score     0.959742   0.509804  0.925595    0.734773      0.932960\n",
       "support    316.000000  20.000000  0.925595  336.000000    336.000000"
      ]
     },
     "metadata": {},
     "output_type": "display_data"
    }
   ],
   "source": [
    "base_scores_ecoli = score_data(ecoli_X, ecoli_y)\n",
    "display(base_scores_ecoli)"
   ]
  },
  {
   "cell_type": "markdown",
   "metadata": {
    "pycharm": {
     "name": "#%% md\n"
    }
   },
   "source": [
    "### Compare performance of methods"
   ]
  },
  {
   "cell_type": "code",
   "execution_count": 77,
   "metadata": {
    "pycharm": {
     "name": "#%%\n"
    }
   },
   "outputs": [],
   "source": [
    "def report(strategy, X, y,visualize=False):\n",
    "\tX_resampled,y_resampled = strategy.fit_resample(X, y)\n",
    "\tresampled_scores_dummy = score_data(X_resampled,y_resampled)\n",
    "\tdisplay(resampled_scores_dummy)\n",
    "\tif visualize:\n",
    "\t\tvisualize_points(X_resampled,y_resampled)"
   ]
  },
  {
   "cell_type": "markdown",
   "metadata": {
    "pycharm": {
     "name": "#%% md\n"
    }
   },
   "source": [
    "#### BorderlineSMOTE"
   ]
  },
  {
   "cell_type": "markdown",
   "metadata": {
    "pycharm": {
     "name": "#%% md\n"
    }
   },
   "source": [
    "##### Dummy dataset"
   ]
  },
  {
   "cell_type": "code",
   "execution_count": 78,
   "metadata": {
    "pycharm": {
     "name": "#%%\n"
    }
   },
   "outputs": [
    {
     "data": {
      "text/html": [
       "<div>\n",
       "<style scoped>\n",
       "    .dataframe tbody tr th:only-of-type {\n",
       "        vertical-align: middle;\n",
       "    }\n",
       "\n",
       "    .dataframe tbody tr th {\n",
       "        vertical-align: top;\n",
       "    }\n",
       "\n",
       "    .dataframe thead th {\n",
       "        text-align: right;\n",
       "    }\n",
       "</style>\n",
       "<table border=\"1\" class=\"dataframe\">\n",
       "  <thead>\n",
       "    <tr style=\"text-align: right;\">\n",
       "      <th></th>\n",
       "      <th>0</th>\n",
       "      <th>1</th>\n",
       "      <th>accuracy</th>\n",
       "      <th>macro avg</th>\n",
       "      <th>weighted avg</th>\n",
       "    </tr>\n",
       "  </thead>\n",
       "  <tbody>\n",
       "    <tr>\n",
       "      <th>precision</th>\n",
       "      <td>0.993939</td>\n",
       "      <td>0.727273</td>\n",
       "      <td>0.988142</td>\n",
       "      <td>0.860606</td>\n",
       "      <td>0.988142</td>\n",
       "    </tr>\n",
       "    <tr>\n",
       "      <th>recall</th>\n",
       "      <td>0.993939</td>\n",
       "      <td>0.727273</td>\n",
       "      <td>0.988142</td>\n",
       "      <td>0.860606</td>\n",
       "      <td>0.988142</td>\n",
       "    </tr>\n",
       "    <tr>\n",
       "      <th>f1-score</th>\n",
       "      <td>0.993939</td>\n",
       "      <td>0.727273</td>\n",
       "      <td>0.988142</td>\n",
       "      <td>0.860606</td>\n",
       "      <td>0.988142</td>\n",
       "    </tr>\n",
       "    <tr>\n",
       "      <th>support</th>\n",
       "      <td>990.000000</td>\n",
       "      <td>22.000000</td>\n",
       "      <td>0.988142</td>\n",
       "      <td>1012.000000</td>\n",
       "      <td>1012.000000</td>\n",
       "    </tr>\n",
       "  </tbody>\n",
       "</table>\n",
       "</div>"
      ],
      "text/plain": [
       "                    0          1  accuracy    macro avg  weighted avg\n",
       "precision    0.993939   0.727273  0.988142     0.860606      0.988142\n",
       "recall       0.993939   0.727273  0.988142     0.860606      0.988142\n",
       "f1-score     0.993939   0.727273  0.988142     0.860606      0.988142\n",
       "support    990.000000  22.000000  0.988142  1012.000000   1012.000000"
      ]
     },
     "metadata": {},
     "output_type": "display_data"
    },
    {
     "data": {
      "image/png": "[encoded data removed]",
      "text/plain": [
       "<Figure size 432x288 with 1 Axes>"
      ]
     },
     "metadata": {
      "needs_background": "light"
     },
     "output_type": "display_data"
    }
   ],
   "source": [
    "report(BorderlineSMOTE(), dummy_X, dummy_y, True)"
   ]
  },
  {
   "cell_type": "markdown",
   "metadata": {
    "pycharm": {
     "name": "#%% md\n"
    }
   },
   "source": [
    "##### Satimage"
   ]
  },
  {
   "cell_type": "code",
   "execution_count": 79,
   "metadata": {
    "pycharm": {
     "name": "#%%\n"
    }
   },
   "outputs": [
    {
     "data": {
      "text/html": [
       "<div>\n",
       "<style scoped>\n",
       "    .dataframe tbody tr th:only-of-type {\n",
       "        vertical-align: middle;\n",
       "    }\n",
       "\n",
       "    .dataframe tbody tr th {\n",
       "        vertical-align: top;\n",
       "    }\n",
       "\n",
       "    .dataframe thead th {\n",
       "        text-align: right;\n",
       "    }\n",
       "</style>\n",
       "<table border=\"1\" class=\"dataframe\">\n",
       "  <thead>\n",
       "    <tr style=\"text-align: right;\">\n",
       "      <th></th>\n",
       "      <th>0.0</th>\n",
       "      <th>1.0</th>\n",
       "      <th>accuracy</th>\n",
       "      <th>macro avg</th>\n",
       "      <th>weighted avg</th>\n",
       "    </tr>\n",
       "  </thead>\n",
       "  <tbody>\n",
       "    <tr>\n",
       "      <th>precision</th>\n",
       "      <td>0.953141</td>\n",
       "      <td>0.734186</td>\n",
       "      <td>0.909782</td>\n",
       "      <td>0.843664</td>\n",
       "      <td>0.913079</td>\n",
       "    </tr>\n",
       "    <tr>\n",
       "      <th>recall</th>\n",
       "      <td>0.935573</td>\n",
       "      <td>0.794615</td>\n",
       "      <td>0.909782</td>\n",
       "      <td>0.865094</td>\n",
       "      <td>0.909782</td>\n",
       "    </tr>\n",
       "    <tr>\n",
       "      <th>f1-score</th>\n",
       "      <td>0.944275</td>\n",
       "      <td>0.763207</td>\n",
       "      <td>0.909782</td>\n",
       "      <td>0.853741</td>\n",
       "      <td>0.911145</td>\n",
       "    </tr>\n",
       "    <tr>\n",
       "      <th>support</th>\n",
       "      <td>5805.000000</td>\n",
       "      <td>1300.000000</td>\n",
       "      <td>0.909782</td>\n",
       "      <td>7105.000000</td>\n",
       "      <td>7105.000000</td>\n",
       "    </tr>\n",
       "  </tbody>\n",
       "</table>\n",
       "</div>"
      ],
      "text/plain": [
       "                   0.0          1.0  accuracy    macro avg  weighted avg\n",
       "precision     0.953141     0.734186  0.909782     0.843664      0.913079\n",
       "recall        0.935573     0.794615  0.909782     0.865094      0.909782\n",
       "f1-score      0.944275     0.763207  0.909782     0.853741      0.911145\n",
       "support    5805.000000  1300.000000  0.909782  7105.000000   7105.000000"
      ]
     },
     "metadata": {},
     "output_type": "display_data"
    }
   ],
   "source": [
    "report(BorderlineSMOTE(), satimage_X, satimage_y)"
   ]
  },
  {
   "cell_type": "markdown",
   "metadata": {},
   "source": [
    "##### Ecoli"
   ]
  },
  {
   "cell_type": "code",
   "execution_count": 80,
   "metadata": {},
   "outputs": [
    {
     "data": {
      "text/html": [
       "<div>\n",
       "<style scoped>\n",
       "    .dataframe tbody tr th:only-of-type {\n",
       "        vertical-align: middle;\n",
       "    }\n",
       "\n",
       "    .dataframe tbody tr th {\n",
       "        vertical-align: top;\n",
       "    }\n",
       "\n",
       "    .dataframe thead th {\n",
       "        text-align: right;\n",
       "    }\n",
       "</style>\n",
       "<table border=\"1\" class=\"dataframe\">\n",
       "  <thead>\n",
       "    <tr style=\"text-align: right;\">\n",
       "      <th></th>\n",
       "      <th>0.0</th>\n",
       "      <th>1.0</th>\n",
       "      <th>accuracy</th>\n",
       "      <th>macro avg</th>\n",
       "      <th>weighted avg</th>\n",
       "    </tr>\n",
       "  </thead>\n",
       "  <tbody>\n",
       "    <tr>\n",
       "      <th>precision</th>\n",
       "      <td>0.980456</td>\n",
       "      <td>0.634146</td>\n",
       "      <td>0.939655</td>\n",
       "      <td>0.807301</td>\n",
       "      <td>0.948611</td>\n",
       "    </tr>\n",
       "    <tr>\n",
       "      <th>recall</th>\n",
       "      <td>0.952532</td>\n",
       "      <td>0.812500</td>\n",
       "      <td>0.939655</td>\n",
       "      <td>0.882516</td>\n",
       "      <td>0.939655</td>\n",
       "    </tr>\n",
       "    <tr>\n",
       "      <th>f1-score</th>\n",
       "      <td>0.966292</td>\n",
       "      <td>0.712329</td>\n",
       "      <td>0.939655</td>\n",
       "      <td>0.839310</td>\n",
       "      <td>0.942939</td>\n",
       "    </tr>\n",
       "    <tr>\n",
       "      <th>support</th>\n",
       "      <td>316.000000</td>\n",
       "      <td>32.000000</td>\n",
       "      <td>0.939655</td>\n",
       "      <td>348.000000</td>\n",
       "      <td>348.000000</td>\n",
       "    </tr>\n",
       "  </tbody>\n",
       "</table>\n",
       "</div>"
      ],
      "text/plain": [
       "                  0.0        1.0  accuracy   macro avg  weighted avg\n",
       "precision    0.980456   0.634146  0.939655    0.807301      0.948611\n",
       "recall       0.952532   0.812500  0.939655    0.882516      0.939655\n",
       "f1-score     0.966292   0.712329  0.939655    0.839310      0.942939\n",
       "support    316.000000  32.000000  0.939655  348.000000    348.000000"
      ]
     },
     "metadata": {},
     "output_type": "display_data"
    }
   ],
   "source": [
    "report(BorderlineSMOTE(), ecoli_X, ecoli_y)"
   ]
  },
  {
   "cell_type": "markdown",
   "metadata": {
    "pycharm": {
     "name": "#%% md\n"
    }
   },
   "source": [
    "#### OneSidedSelection"
   ]
  },
  {
   "cell_type": "markdown",
   "metadata": {
    "pycharm": {
     "name": "#%% md\n"
    }
   },
   "source": [
    "##### Dummy dataset"
   ]
  },
  {
   "cell_type": "code",
   "execution_count": 81,
   "metadata": {
    "pycharm": {
     "name": "#%%\n"
    }
   },
   "outputs": [
    {
     "data": {
      "text/html": [
       "<div>\n",
       "<style scoped>\n",
       "    .dataframe tbody tr th:only-of-type {\n",
       "        vertical-align: middle;\n",
       "    }\n",
       "\n",
       "    .dataframe tbody tr th {\n",
       "        vertical-align: top;\n",
       "    }\n",
       "\n",
       "    .dataframe thead th {\n",
       "        text-align: right;\n",
       "    }\n",
       "</style>\n",
       "<table border=\"1\" class=\"dataframe\">\n",
       "  <thead>\n",
       "    <tr style=\"text-align: right;\">\n",
       "      <th></th>\n",
       "      <th>0</th>\n",
       "      <th>1</th>\n",
       "      <th>accuracy</th>\n",
       "      <th>macro avg</th>\n",
       "      <th>weighted avg</th>\n",
       "    </tr>\n",
       "  </thead>\n",
       "  <tbody>\n",
       "    <tr>\n",
       "      <th>precision</th>\n",
       "      <td>0.983051</td>\n",
       "      <td>0.666667</td>\n",
       "      <td>0.971429</td>\n",
       "      <td>0.824859</td>\n",
       "      <td>0.970137</td>\n",
       "    </tr>\n",
       "    <tr>\n",
       "      <th>recall</th>\n",
       "      <td>0.987234</td>\n",
       "      <td>0.600000</td>\n",
       "      <td>0.971429</td>\n",
       "      <td>0.793617</td>\n",
       "      <td>0.971429</td>\n",
       "    </tr>\n",
       "    <tr>\n",
       "      <th>f1-score</th>\n",
       "      <td>0.985138</td>\n",
       "      <td>0.631579</td>\n",
       "      <td>0.971429</td>\n",
       "      <td>0.808358</td>\n",
       "      <td>0.970707</td>\n",
       "    </tr>\n",
       "    <tr>\n",
       "      <th>support</th>\n",
       "      <td>235.000000</td>\n",
       "      <td>10.000000</td>\n",
       "      <td>0.971429</td>\n",
       "      <td>245.000000</td>\n",
       "      <td>245.000000</td>\n",
       "    </tr>\n",
       "  </tbody>\n",
       "</table>\n",
       "</div>"
      ],
      "text/plain": [
       "                    0          1  accuracy   macro avg  weighted avg\n",
       "precision    0.983051   0.666667  0.971429    0.824859      0.970137\n",
       "recall       0.987234   0.600000  0.971429    0.793617      0.971429\n",
       "f1-score     0.985138   0.631579  0.971429    0.808358      0.970707\n",
       "support    235.000000  10.000000  0.971429  245.000000    245.000000"
      ]
     },
     "metadata": {},
     "output_type": "display_data"
    },
    {
     "data": {
      "image/png": "[encoded data removed]",
      "text/plain": [
       "<Figure size 432x288 with 1 Axes>"
      ]
     },
     "metadata": {
      "needs_background": "light"
     },
     "output_type": "display_data"
    }
   ],
   "source": [
    "report(OneSidedSelection(), dummy_X, dummy_y, True)"
   ]
  },
  {
   "cell_type": "markdown",
   "metadata": {
    "pycharm": {
     "name": "#%% md\n"
    }
   },
   "source": [
    "##### Satimage"
   ]
  },
  {
   "cell_type": "code",
   "execution_count": 82,
   "metadata": {
    "pycharm": {
     "name": "#%%\n"
    }
   },
   "outputs": [
    {
     "data": {
      "text/html": [
       "<div>\n",
       "<style scoped>\n",
       "    .dataframe tbody tr th:only-of-type {\n",
       "        vertical-align: middle;\n",
       "    }\n",
       "\n",
       "    .dataframe tbody tr th {\n",
       "        vertical-align: top;\n",
       "    }\n",
       "\n",
       "    .dataframe thead th {\n",
       "        text-align: right;\n",
       "    }\n",
       "</style>\n",
       "<table border=\"1\" class=\"dataframe\">\n",
       "  <thead>\n",
       "    <tr style=\"text-align: right;\">\n",
       "      <th></th>\n",
       "      <th>0.0</th>\n",
       "      <th>1.0</th>\n",
       "      <th>accuracy</th>\n",
       "      <th>macro avg</th>\n",
       "      <th>weighted avg</th>\n",
       "    </tr>\n",
       "  </thead>\n",
       "  <tbody>\n",
       "    <tr>\n",
       "      <th>precision</th>\n",
       "      <td>0.947850</td>\n",
       "      <td>0.524229</td>\n",
       "      <td>0.898282</td>\n",
       "      <td>0.736039</td>\n",
       "      <td>0.902358</td>\n",
       "    </tr>\n",
       "    <tr>\n",
       "      <th>recall</th>\n",
       "      <td>0.937632</td>\n",
       "      <td>0.571200</td>\n",
       "      <td>0.898282</td>\n",
       "      <td>0.754416</td>\n",
       "      <td>0.898282</td>\n",
       "    </tr>\n",
       "    <tr>\n",
       "      <th>f1-score</th>\n",
       "      <td>0.942713</td>\n",
       "      <td>0.546708</td>\n",
       "      <td>0.898282</td>\n",
       "      <td>0.744710</td>\n",
       "      <td>0.900187</td>\n",
       "    </tr>\n",
       "    <tr>\n",
       "      <th>support</th>\n",
       "      <td>5195.000000</td>\n",
       "      <td>625.000000</td>\n",
       "      <td>0.898282</td>\n",
       "      <td>5820.000000</td>\n",
       "      <td>5820.000000</td>\n",
       "    </tr>\n",
       "  </tbody>\n",
       "</table>\n",
       "</div>"
      ],
      "text/plain": [
       "                   0.0         1.0  accuracy    macro avg  weighted avg\n",
       "precision     0.947850    0.524229  0.898282     0.736039      0.902358\n",
       "recall        0.937632    0.571200  0.898282     0.754416      0.898282\n",
       "f1-score      0.942713    0.546708  0.898282     0.744710      0.900187\n",
       "support    5195.000000  625.000000  0.898282  5820.000000   5820.000000"
      ]
     },
     "metadata": {},
     "output_type": "display_data"
    }
   ],
   "source": [
    "report(OneSidedSelection(), satimage_X, satimage_y)"
   ]
  },
  {
   "cell_type": "markdown",
   "metadata": {},
   "source": [
    "##### Ecoli"
   ]
  },
  {
   "cell_type": "code",
   "execution_count": 83,
   "metadata": {},
   "outputs": [
    {
     "data": {
      "text/html": [
       "<div>\n",
       "<style scoped>\n",
       "    .dataframe tbody tr th:only-of-type {\n",
       "        vertical-align: middle;\n",
       "    }\n",
       "\n",
       "    .dataframe tbody tr th {\n",
       "        vertical-align: top;\n",
       "    }\n",
       "\n",
       "    .dataframe thead th {\n",
       "        text-align: right;\n",
       "    }\n",
       "</style>\n",
       "<table border=\"1\" class=\"dataframe\">\n",
       "  <thead>\n",
       "    <tr style=\"text-align: right;\">\n",
       "      <th></th>\n",
       "      <th>0.0</th>\n",
       "      <th>1.0</th>\n",
       "      <th>accuracy</th>\n",
       "      <th>macro avg</th>\n",
       "      <th>weighted avg</th>\n",
       "    </tr>\n",
       "  </thead>\n",
       "  <tbody>\n",
       "    <tr>\n",
       "      <th>precision</th>\n",
       "      <td>0.982456</td>\n",
       "      <td>0.600000</td>\n",
       "      <td>0.951613</td>\n",
       "      <td>0.791228</td>\n",
       "      <td>0.957782</td>\n",
       "    </tr>\n",
       "    <tr>\n",
       "      <th>recall</th>\n",
       "      <td>0.965517</td>\n",
       "      <td>0.750000</td>\n",
       "      <td>0.951613</td>\n",
       "      <td>0.857759</td>\n",
       "      <td>0.951613</td>\n",
       "    </tr>\n",
       "    <tr>\n",
       "      <th>f1-score</th>\n",
       "      <td>0.973913</td>\n",
       "      <td>0.666667</td>\n",
       "      <td>0.951613</td>\n",
       "      <td>0.820290</td>\n",
       "      <td>0.954091</td>\n",
       "    </tr>\n",
       "    <tr>\n",
       "      <th>support</th>\n",
       "      <td>290.000000</td>\n",
       "      <td>20.000000</td>\n",
       "      <td>0.951613</td>\n",
       "      <td>310.000000</td>\n",
       "      <td>310.000000</td>\n",
       "    </tr>\n",
       "  </tbody>\n",
       "</table>\n",
       "</div>"
      ],
      "text/plain": [
       "                  0.0        1.0  accuracy   macro avg  weighted avg\n",
       "precision    0.982456   0.600000  0.951613    0.791228      0.957782\n",
       "recall       0.965517   0.750000  0.951613    0.857759      0.951613\n",
       "f1-score     0.973913   0.666667  0.951613    0.820290      0.954091\n",
       "support    290.000000  20.000000  0.951613  310.000000    310.000000"
      ]
     },
     "metadata": {},
     "output_type": "display_data"
    }
   ],
   "source": [
    "report(OneSidedSelection(), ecoli_X, ecoli_y)"
   ]
  },
  {
   "cell_type": "markdown",
   "metadata": {
    "pycharm": {
     "name": "#%% md\n"
    }
   },
   "source": [
    "#### SafeLevelSmote"
   ]
  },
  {
   "cell_type": "markdown",
   "metadata": {
    "pycharm": {
     "name": "#%% md\n"
    }
   },
   "source": [
    "##### Dummy dataset"
   ]
  },
  {
   "cell_type": "code",
   "execution_count": 84,
   "metadata": {},
   "outputs": [
    {
     "data": {
      "text/html": [
       "<div>\n",
       "<style scoped>\n",
       "    .dataframe tbody tr th:only-of-type {\n",
       "        vertical-align: middle;\n",
       "    }\n",
       "\n",
       "    .dataframe tbody tr th {\n",
       "        vertical-align: top;\n",
       "    }\n",
       "\n",
       "    .dataframe thead th {\n",
       "        text-align: right;\n",
       "    }\n",
       "</style>\n",
       "<table border=\"1\" class=\"dataframe\">\n",
       "  <thead>\n",
       "    <tr style=\"text-align: right;\">\n",
       "      <th></th>\n",
       "      <th>0</th>\n",
       "      <th>1</th>\n",
       "      <th>accuracy</th>\n",
       "      <th>macro avg</th>\n",
       "      <th>weighted avg</th>\n",
       "    </tr>\n",
       "  </thead>\n",
       "  <tbody>\n",
       "    <tr>\n",
       "      <th>precision</th>\n",
       "      <td>0.998985</td>\n",
       "      <td>0.760000</td>\n",
       "      <td>0.993069</td>\n",
       "      <td>0.879492</td>\n",
       "      <td>0.994252</td>\n",
       "    </tr>\n",
       "    <tr>\n",
       "      <th>recall</th>\n",
       "      <td>0.993939</td>\n",
       "      <td>0.950000</td>\n",
       "      <td>0.993069</td>\n",
       "      <td>0.971970</td>\n",
       "      <td>0.993069</td>\n",
       "    </tr>\n",
       "    <tr>\n",
       "      <th>f1-score</th>\n",
       "      <td>0.996456</td>\n",
       "      <td>0.844444</td>\n",
       "      <td>0.993069</td>\n",
       "      <td>0.920450</td>\n",
       "      <td>0.993446</td>\n",
       "    </tr>\n",
       "    <tr>\n",
       "      <th>support</th>\n",
       "      <td>990.000000</td>\n",
       "      <td>20.000000</td>\n",
       "      <td>0.993069</td>\n",
       "      <td>1010.000000</td>\n",
       "      <td>1010.000000</td>\n",
       "    </tr>\n",
       "  </tbody>\n",
       "</table>\n",
       "</div>"
      ],
      "text/plain": [
       "                    0          1  accuracy    macro avg  weighted avg\n",
       "precision    0.998985   0.760000  0.993069     0.879492      0.994252\n",
       "recall       0.993939   0.950000  0.993069     0.971970      0.993069\n",
       "f1-score     0.996456   0.844444  0.993069     0.920450      0.993446\n",
       "support    990.000000  20.000000  0.993069  1010.000000   1010.000000"
      ]
     },
     "metadata": {},
     "output_type": "display_data"
    },
    {
     "data": {
      "image/png": "[encoded data removed]",
      "text/plain": [
       "<Figure size 432x288 with 1 Axes>"
      ]
     },
     "metadata": {
      "needs_background": "light"
     },
     "output_type": "display_data"
    }
   ],
   "source": [
    "report(SafeLevelSmote(), dummy_X, dummy_y, True)"
   ]
  },
  {
   "cell_type": "markdown",
   "metadata": {
    "pycharm": {
     "name": "#%% md\n"
    }
   },
   "source": [
    "##### Satimage"
   ]
  },
  {
   "cell_type": "code",
   "execution_count": 85,
   "metadata": {
    "pycharm": {
     "name": "#%%\n"
    }
   },
   "outputs": [
    {
     "data": {
      "text/html": [
       "<div>\n",
       "<style scoped>\n",
       "    .dataframe tbody tr th:only-of-type {\n",
       "        vertical-align: middle;\n",
       "    }\n",
       "\n",
       "    .dataframe tbody tr th {\n",
       "        vertical-align: top;\n",
       "    }\n",
       "\n",
       "    .dataframe thead th {\n",
       "        text-align: right;\n",
       "    }\n",
       "</style>\n",
       "<table border=\"1\" class=\"dataframe\">\n",
       "  <thead>\n",
       "    <tr style=\"text-align: right;\">\n",
       "      <th></th>\n",
       "      <th>0.0</th>\n",
       "      <th>1.0</th>\n",
       "      <th>accuracy</th>\n",
       "      <th>macro avg</th>\n",
       "      <th>weighted avg</th>\n",
       "    </tr>\n",
       "  </thead>\n",
       "  <tbody>\n",
       "    <tr>\n",
       "      <th>precision</th>\n",
       "      <td>0.966207</td>\n",
       "      <td>0.754811</td>\n",
       "      <td>0.924167</td>\n",
       "      <td>0.860509</td>\n",
       "      <td>0.928752</td>\n",
       "    </tr>\n",
       "    <tr>\n",
       "      <th>recall</th>\n",
       "      <td>0.940741</td>\n",
       "      <td>0.847200</td>\n",
       "      <td>0.924167</td>\n",
       "      <td>0.893970</td>\n",
       "      <td>0.924167</td>\n",
       "    </tr>\n",
       "    <tr>\n",
       "      <th>f1-score</th>\n",
       "      <td>0.953304</td>\n",
       "      <td>0.798342</td>\n",
       "      <td>0.924167</td>\n",
       "      <td>0.875823</td>\n",
       "      <td>0.925848</td>\n",
       "    </tr>\n",
       "    <tr>\n",
       "      <th>support</th>\n",
       "      <td>5805.000000</td>\n",
       "      <td>1250.000000</td>\n",
       "      <td>0.924167</td>\n",
       "      <td>7055.000000</td>\n",
       "      <td>7055.000000</td>\n",
       "    </tr>\n",
       "  </tbody>\n",
       "</table>\n",
       "</div>"
      ],
      "text/plain": [
       "                   0.0          1.0  accuracy    macro avg  weighted avg\n",
       "precision     0.966207     0.754811  0.924167     0.860509      0.928752\n",
       "recall        0.940741     0.847200  0.924167     0.893970      0.924167\n",
       "f1-score      0.953304     0.798342  0.924167     0.875823      0.925848\n",
       "support    5805.000000  1250.000000  0.924167  7055.000000   7055.000000"
      ]
     },
     "metadata": {},
     "output_type": "display_data"
    }
   ],
   "source": [
    "report(SafeLevelSmote(), satimage_X, satimage_y)"
   ]
  },
  {
   "cell_type": "markdown",
   "metadata": {},
   "source": [
    "##### Ecoli"
   ]
  },
  {
   "cell_type": "code",
   "execution_count": 86,
   "metadata": {},
   "outputs": [
    {
     "data": {
      "text/html": [
       "<div>\n",
       "<style scoped>\n",
       "    .dataframe tbody tr th:only-of-type {\n",
       "        vertical-align: middle;\n",
       "    }\n",
       "\n",
       "    .dataframe tbody tr th {\n",
       "        vertical-align: top;\n",
       "    }\n",
       "\n",
       "    .dataframe thead th {\n",
       "        text-align: right;\n",
       "    }\n",
       "</style>\n",
       "<table border=\"1\" class=\"dataframe\">\n",
       "  <thead>\n",
       "    <tr style=\"text-align: right;\">\n",
       "      <th></th>\n",
       "      <th>0.0</th>\n",
       "      <th>1.0</th>\n",
       "      <th>accuracy</th>\n",
       "      <th>macro avg</th>\n",
       "      <th>weighted avg</th>\n",
       "    </tr>\n",
       "  </thead>\n",
       "  <tbody>\n",
       "    <tr>\n",
       "      <th>precision</th>\n",
       "      <td>0.990066</td>\n",
       "      <td>0.685185</td>\n",
       "      <td>0.94382</td>\n",
       "      <td>0.837626</td>\n",
       "      <td>0.955810</td>\n",
       "    </tr>\n",
       "    <tr>\n",
       "      <th>recall</th>\n",
       "      <td>0.946203</td>\n",
       "      <td>0.925000</td>\n",
       "      <td>0.94382</td>\n",
       "      <td>0.935601</td>\n",
       "      <td>0.943820</td>\n",
       "    </tr>\n",
       "    <tr>\n",
       "      <th>f1-score</th>\n",
       "      <td>0.967638</td>\n",
       "      <td>0.787234</td>\n",
       "      <td>0.94382</td>\n",
       "      <td>0.877436</td>\n",
       "      <td>0.947367</td>\n",
       "    </tr>\n",
       "    <tr>\n",
       "      <th>support</th>\n",
       "      <td>316.000000</td>\n",
       "      <td>40.000000</td>\n",
       "      <td>0.94382</td>\n",
       "      <td>356.000000</td>\n",
       "      <td>356.000000</td>\n",
       "    </tr>\n",
       "  </tbody>\n",
       "</table>\n",
       "</div>"
      ],
      "text/plain": [
       "                  0.0        1.0  accuracy   macro avg  weighted avg\n",
       "precision    0.990066   0.685185   0.94382    0.837626      0.955810\n",
       "recall       0.946203   0.925000   0.94382    0.935601      0.943820\n",
       "f1-score     0.967638   0.787234   0.94382    0.877436      0.947367\n",
       "support    316.000000  40.000000   0.94382  356.000000    356.000000"
      ]
     },
     "metadata": {},
     "output_type": "display_data"
    }
   ],
   "source": [
    "report(SafeLevelSmote(), ecoli_X, ecoli_y)"
   ]
  },
  {
   "cell_type": "code",
   "execution_count": null,
   "metadata": {},
   "outputs": [],
   "source": []
  }
 ],
 "metadata": {
  "kernelspec": {
   "display_name": "Python 3.10.5 64-bit",
   "language": "python",
   "name": "python3"
  },
  "language_info": {
   "codemirror_mode": {
    "name": "ipython",
    "version": 3
   },
   "file_extension": ".py",
   "mimetype": "text/x-python",
   "name": "python",
   "nbconvert_exporter": "python",
   "pygments_lexer": "ipython3",
   "version": "3.10.5"
  },
  "vscode": {
   "interpreter": {
    "hash": "ab65e0f36d5c11f154de4c709adaf32816fcb65d10adfe09b419299cedd5a58a"
   }
  }
 },
 "nbformat": 4,
 "nbformat_minor": 1
}
