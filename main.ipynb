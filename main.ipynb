{
 "cells": [
  {
   "cell_type": "markdown",
   "metadata": {
    "pycharm": {
     "name": "#%% md\n"
    }
   },
   "source": [
    "### Imports"
   ]
  },
  {
   "cell_type": "code",
   "execution_count": 1,
   "metadata": {
    "pycharm": {
     "name": "#%%\n"
    }
   },
   "outputs": [],
   "source": [
    "from src.methods import (SafeLevelSmote,BorderlineSMOTE,OneSidedSelection)\n",
    "from src.c45 import C45\n",
    "import pandas as pd\n",
    "from collections import Counter\n",
    "from sklearn.datasets import make_classification\n",
    "from sklearn.model_selection import cross_val_predict\n",
    "from sklearn.metrics import classification_report\n",
    "import matplotlib.pyplot as plt\n",
    "import  numpy as np\n"
   ]
  },
  {
   "cell_type": "markdown",
   "metadata": {
    "pycharm": {
     "name": "#%% md\n"
    }
   },
   "source": [
    "### Calculate performance metrics based on C4.5 classification"
   ]
  },
  {
   "cell_type": "code",
   "execution_count": 2,
   "metadata": {
    "pycharm": {
     "name": "#%%\n"
    }
   },
   "outputs": [],
   "source": [
    "def score_data(x: np.array, y: np.array, cv=5) -> pd.DataFrame:\n",
    "\tclf = C45()\n",
    "\ty_pred = cross_val_predict(clf, x, y, cv=cv)\n",
    "\treturn pd.DataFrame(classification_report(y,y_pred,output_dict=True))"
   ]
  },
  {
   "cell_type": "code",
   "execution_count": 3,
   "metadata": {
    "pycharm": {
     "name": "#%%\n"
    }
   },
   "outputs": [],
   "source": [
    "def visualize_points(X, y) -> None:\n",
    "    c =['tab:orange' if i ==1 else \"tab:blue\" for i in y]\n",
    "    print(X)\n",
    "    plt.scatter(X[:, 0], X[:, 1], c=c)\n",
    "    plt.show()"
   ]
  },
  {
   "cell_type": "markdown",
   "metadata": {
    "pycharm": {
     "name": "#%% md\n"
    }
   },
   "source": [
    "### Datasets"
   ]
  },
  {
   "cell_type": "markdown",
   "metadata": {
    "pycharm": {
     "name": "#%% md\n"
    }
   },
   "source": [
    "#### Dummy dataset"
   ]
  },
  {
   "cell_type": "code",
   "execution_count": 8,
   "metadata": {
    "pycharm": {
     "name": "#%%\n"
    }
   },
   "outputs": [
    {
     "name": "stdout",
     "output_type": "stream",
     "text": [
      "Counter({0: 990, 1: 10})\n"
     ]
    },
    {
     "data": {
      "text/plain": "<Figure size 432x288 with 1 Axes>",
      "image/png": "[encoded data removed]"
     },
     "metadata": {
      "needs_background": "light"
     },
     "output_type": "display_data"
    }
   ],
   "source": [
    "dummy_X, dummy_y = make_classification(n_samples=1000, n_features=2, n_redundant=0,\n",
    "\tn_clusters_per_class=1, weights=[0.99], flip_y=0, random_state=1)\n",
    "counter = Counter(dummy_y)\n",
    "print(counter)\n",
    "for label, _ in counter.items():\n",
    "\trow_ix = np.where(dummy_y == label)[0]\n",
    "\tplt.scatter(dummy_X[row_ix, 0], dummy_X[row_ix, 1], label=str(label))\n",
    "plt.legend()\n",
    "plt.show()"
   ]
  },
  {
   "cell_type": "markdown",
   "metadata": {
    "pycharm": {
     "name": "#%% md\n"
    }
   },
   "source": [
    "##### Base performance"
   ]
  },
  {
   "cell_type": "code",
   "execution_count": 9,
   "metadata": {
    "pycharm": {
     "name": "#%%\n"
    }
   },
   "outputs": [
    {
     "data": {
      "text/plain": "                    0          1  accuracy    macro avg  weighted avg\nprecision    0.995964   0.666667     0.993     0.831315      0.992671\nrecall       0.996970   0.600000     0.993     0.798485      0.993000\nf1-score     0.996466   0.631579     0.993     0.814023      0.992818\nsupport    990.000000  10.000000     0.993  1000.000000   1000.000000",
      "text/html": "<div>\n<style scoped>\n    .dataframe tbody tr th:only-of-type {\n        vertical-align: middle;\n    }\n\n    .dataframe tbody tr th {\n        vertical-align: top;\n    }\n\n    .dataframe thead th {\n        text-align: right;\n    }\n</style>\n<table border=\"1\" class=\"dataframe\">\n  <thead>\n    <tr style=\"text-align: right;\">\n      <th></th>\n      <th>0</th>\n      <th>1</th>\n      <th>accuracy</th>\n      <th>macro avg</th>\n      <th>weighted avg</th>\n    </tr>\n  </thead>\n  <tbody>\n    <tr>\n      <th>precision</th>\n      <td>0.995964</td>\n      <td>0.666667</td>\n      <td>0.993</td>\n      <td>0.831315</td>\n      <td>0.992671</td>\n    </tr>\n    <tr>\n      <th>recall</th>\n      <td>0.996970</td>\n      <td>0.600000</td>\n      <td>0.993</td>\n      <td>0.798485</td>\n      <td>0.993000</td>\n    </tr>\n    <tr>\n      <th>f1-score</th>\n      <td>0.996466</td>\n      <td>0.631579</td>\n      <td>0.993</td>\n      <td>0.814023</td>\n      <td>0.992818</td>\n    </tr>\n    <tr>\n      <th>support</th>\n      <td>990.000000</td>\n      <td>10.000000</td>\n      <td>0.993</td>\n      <td>1000.000000</td>\n      <td>1000.000000</td>\n    </tr>\n  </tbody>\n</table>\n</div>"
     },
     "metadata": {},
     "output_type": "display_data"
    }
   ],
   "source": [
    "base_scores_dummy = score_data(dummy_X, dummy_y)\n",
    "display(base_scores_dummy)"
   ]
  },
  {
   "cell_type": "markdown",
   "metadata": {
    "pycharm": {
     "name": "#%% md\n"
    }
   },
   "source": [
    "#### Satimage"
   ]
  },
  {
   "cell_type": "code",
   "execution_count": 12,
   "metadata": {
    "pycharm": {
     "name": "#%%\n"
    }
   },
   "outputs": [],
   "source": [
    "satimage_df = pd.read_csv('datasets/satimage.csv')\n",
    "satimage = satimage_df.to_numpy()\n",
    "satimage_X,satimage_y =satimage[:,:-1],satimage[:,-1]\n",
    "satimage_y = np.where(satimage_y==4.0,1.0,0.0)"
   ]
  },
  {
   "cell_type": "markdown",
   "metadata": {
    "pycharm": {
     "name": "#%% md\n"
    }
   },
   "source": [
    "##### Base performance"
   ]
  },
  {
   "cell_type": "code",
   "execution_count": 13,
   "metadata": {
    "pycharm": {
     "name": "#%%\n"
    }
   },
   "outputs": [
    {
     "data": {
      "text/plain": "                   0.0         1.0  accuracy    macro avg  weighted avg\nprecision     0.952067    0.519345  0.906843     0.735706      0.910006\nrecall        0.944358    0.558400  0.906843     0.751379      0.906843\nf1-score      0.948197    0.538165  0.906843     0.743181      0.908341\nsupport    5805.000000  625.000000  0.906843  6430.000000   6430.000000",
      "text/html": "<div>\n<style scoped>\n    .dataframe tbody tr th:only-of-type {\n        vertical-align: middle;\n    }\n\n    .dataframe tbody tr th {\n        vertical-align: top;\n    }\n\n    .dataframe thead th {\n        text-align: right;\n    }\n</style>\n<table border=\"1\" class=\"dataframe\">\n  <thead>\n    <tr style=\"text-align: right;\">\n      <th></th>\n      <th>0.0</th>\n      <th>1.0</th>\n      <th>accuracy</th>\n      <th>macro avg</th>\n      <th>weighted avg</th>\n    </tr>\n  </thead>\n  <tbody>\n    <tr>\n      <th>precision</th>\n      <td>0.952067</td>\n      <td>0.519345</td>\n      <td>0.906843</td>\n      <td>0.735706</td>\n      <td>0.910006</td>\n    </tr>\n    <tr>\n      <th>recall</th>\n      <td>0.944358</td>\n      <td>0.558400</td>\n      <td>0.906843</td>\n      <td>0.751379</td>\n      <td>0.906843</td>\n    </tr>\n    <tr>\n      <th>f1-score</th>\n      <td>0.948197</td>\n      <td>0.538165</td>\n      <td>0.906843</td>\n      <td>0.743181</td>\n      <td>0.908341</td>\n    </tr>\n    <tr>\n      <th>support</th>\n      <td>5805.000000</td>\n      <td>625.000000</td>\n      <td>0.906843</td>\n      <td>6430.000000</td>\n      <td>6430.000000</td>\n    </tr>\n  </tbody>\n</table>\n</div>"
     },
     "metadata": {},
     "output_type": "display_data"
    }
   ],
   "source": [
    "base_scores_satimage = score_data(satimage_X, satimage_y)\n",
    "display(base_scores_satimage)"
   ]
  },
  {
   "cell_type": "markdown",
   "metadata": {
    "pycharm": {
     "name": "#%% md\n"
    }
   },
   "source": [
    "### Compare performance of methods"
   ]
  },
  {
   "cell_type": "code",
   "execution_count": 14,
   "metadata": {
    "pycharm": {
     "name": "#%%\n"
    }
   },
   "outputs": [],
   "source": [
    "def report(strategy, X, y, base_scores,visualize=False):\n",
    "\tX_resampled,y_resampled = strategy.fit_resample(X, y)\n",
    "\tresampled_scores_dummy = score_data(X_resampled,y_resampled)\n",
    "\tdifference = (resampled_scores_dummy-base_scores).round(3)\n",
    "\tdisplay(difference)\n",
    "\tif visualize:\n",
    "\t\tvisualize_points(X_resampled,y_resampled)"
   ]
  },
  {
   "cell_type": "markdown",
   "metadata": {
    "pycharm": {
     "name": "#%% md\n"
    }
   },
   "source": [
    "#### BorderlineSMOTE"
   ]
  },
  {
   "cell_type": "markdown",
   "metadata": {
    "pycharm": {
     "name": "#%% md\n"
    }
   },
   "source": [
    "##### Dummy dataset"
   ]
  },
  {
   "cell_type": "code",
   "execution_count": 17,
   "metadata": {
    "pycharm": {
     "name": "#%%\n"
    }
   },
   "outputs": [
    {
     "data": {
      "text/plain": "               0       1  accuracy  macro avg  weighted avg\nprecision  0.001   0.093    -0.002      0.047        -0.001\nrecall    -0.003   0.264    -0.002      0.130        -0.002\nf1-score  -0.001   0.177    -0.002      0.088        -0.001\nsupport    0.000  12.000    -0.002     12.000        12.000",
      "text/html": "<div>\n<style scoped>\n    .dataframe tbody tr th:only-of-type {\n        vertical-align: middle;\n    }\n\n    .dataframe tbody tr th {\n        vertical-align: top;\n    }\n\n    .dataframe thead th {\n        text-align: right;\n    }\n</style>\n<table border=\"1\" class=\"dataframe\">\n  <thead>\n    <tr style=\"text-align: right;\">\n      <th></th>\n      <th>0</th>\n      <th>1</th>\n      <th>accuracy</th>\n      <th>macro avg</th>\n      <th>weighted avg</th>\n    </tr>\n  </thead>\n  <tbody>\n    <tr>\n      <th>precision</th>\n      <td>0.001</td>\n      <td>0.093</td>\n      <td>-0.002</td>\n      <td>0.047</td>\n      <td>-0.001</td>\n    </tr>\n    <tr>\n      <th>recall</th>\n      <td>-0.003</td>\n      <td>0.264</td>\n      <td>-0.002</td>\n      <td>0.130</td>\n      <td>-0.002</td>\n    </tr>\n    <tr>\n      <th>f1-score</th>\n      <td>-0.001</td>\n      <td>0.177</td>\n      <td>-0.002</td>\n      <td>0.088</td>\n      <td>-0.001</td>\n    </tr>\n    <tr>\n      <th>support</th>\n      <td>0.000</td>\n      <td>12.000</td>\n      <td>-0.002</td>\n      <td>12.000</td>\n      <td>12.000</td>\n    </tr>\n  </tbody>\n</table>\n</div>"
     },
     "metadata": {},
     "output_type": "display_data"
    },
    {
     "name": "stdout",
     "output_type": "stream",
     "text": [
      "[[-0.12289294  0.11047044]\n",
      " [ 0.33605863 -1.33226151]\n",
      " [ 1.40439918  1.41694259]\n",
      " ...\n",
      " [ 0.69499472 -1.16623467]\n",
      " [ 0.23870487 -0.51060817]\n",
      " [ 0.31183545 -1.0436844 ]]\n"
     ]
    },
    {
     "data": {
      "text/plain": "<Figure size 432x288 with 1 Axes>",
      "image/png": "[encoded data removed]"
     },
     "metadata": {
      "needs_background": "light"
     },
     "output_type": "display_data"
    }
   ],
   "source": [
    "report(BorderlineSMOTE(),dummy_X, dummy_y,base_scores_dummy,True)"
   ]
  },
  {
   "cell_type": "markdown",
   "metadata": {
    "pycharm": {
     "name": "#%% md\n"
    }
   },
   "source": [
    "##### Satimage"
   ]
  },
  {
   "cell_type": "code",
   "execution_count": 18,
   "metadata": {
    "pycharm": {
     "name": "#%%\n"
    }
   },
   "outputs": [
    {
     "data": {
      "text/plain": "             0.0      1.0  accuracy  macro avg  weighted avg\nprecision  0.002    0.238     0.009      0.120         0.008\nrecall    -0.002    0.240     0.009      0.119         0.009\nf1-score   0.000    0.239     0.009      0.120         0.009\nsupport    0.000  675.000     0.009    675.000       675.000",
      "text/html": "<div>\n<style scoped>\n    .dataframe tbody tr th:only-of-type {\n        vertical-align: middle;\n    }\n\n    .dataframe tbody tr th {\n        vertical-align: top;\n    }\n\n    .dataframe thead th {\n        text-align: right;\n    }\n</style>\n<table border=\"1\" class=\"dataframe\">\n  <thead>\n    <tr style=\"text-align: right;\">\n      <th></th>\n      <th>0.0</th>\n      <th>1.0</th>\n      <th>accuracy</th>\n      <th>macro avg</th>\n      <th>weighted avg</th>\n    </tr>\n  </thead>\n  <tbody>\n    <tr>\n      <th>precision</th>\n      <td>0.002</td>\n      <td>0.238</td>\n      <td>0.009</td>\n      <td>0.120</td>\n      <td>0.008</td>\n    </tr>\n    <tr>\n      <th>recall</th>\n      <td>-0.002</td>\n      <td>0.240</td>\n      <td>0.009</td>\n      <td>0.119</td>\n      <td>0.009</td>\n    </tr>\n    <tr>\n      <th>f1-score</th>\n      <td>0.000</td>\n      <td>0.239</td>\n      <td>0.009</td>\n      <td>0.120</td>\n      <td>0.009</td>\n    </tr>\n    <tr>\n      <th>support</th>\n      <td>0.000</td>\n      <td>675.000</td>\n      <td>0.009</td>\n      <td>675.000</td>\n      <td>675.000</td>\n    </tr>\n  </tbody>\n</table>\n</div>"
     },
     "metadata": {},
     "output_type": "display_data"
    }
   ],
   "source": [
    "report(BorderlineSMOTE(),satimage_X, satimage_y,base_scores_satimage)"
   ]
  },
  {
   "cell_type": "markdown",
   "metadata": {
    "pycharm": {
     "name": "#%% md\n"
    }
   },
   "source": [
    "#### OneSidedSelection"
   ]
  },
  {
   "cell_type": "markdown",
   "metadata": {
    "pycharm": {
     "name": "#%% md\n"
    }
   },
   "source": [
    "##### Dummy dataset"
   ]
  },
  {
   "cell_type": "code",
   "execution_count": 19,
   "metadata": {
    "pycharm": {
     "name": "#%%\n"
    }
   },
   "outputs": [
    {
     "data": {
      "text/plain": "                 0    1  accuracy  macro avg  weighted avg\nprecision   -0.005  0.0    -0.008     -0.002        -0.009\nrecall      -0.004  0.0    -0.008     -0.002        -0.008\nf1-score    -0.004  0.0    -0.008     -0.002        -0.008\nsupport   -540.000  0.0    -0.008   -540.000      -540.000",
      "text/html": "<div>\n<style scoped>\n    .dataframe tbody tr th:only-of-type {\n        vertical-align: middle;\n    }\n\n    .dataframe tbody tr th {\n        vertical-align: top;\n    }\n\n    .dataframe thead th {\n        text-align: right;\n    }\n</style>\n<table border=\"1\" class=\"dataframe\">\n  <thead>\n    <tr style=\"text-align: right;\">\n      <th></th>\n      <th>0</th>\n      <th>1</th>\n      <th>accuracy</th>\n      <th>macro avg</th>\n      <th>weighted avg</th>\n    </tr>\n  </thead>\n  <tbody>\n    <tr>\n      <th>precision</th>\n      <td>-0.005</td>\n      <td>0.0</td>\n      <td>-0.008</td>\n      <td>-0.002</td>\n      <td>-0.009</td>\n    </tr>\n    <tr>\n      <th>recall</th>\n      <td>-0.004</td>\n      <td>0.0</td>\n      <td>-0.008</td>\n      <td>-0.002</td>\n      <td>-0.008</td>\n    </tr>\n    <tr>\n      <th>f1-score</th>\n      <td>-0.004</td>\n      <td>0.0</td>\n      <td>-0.008</td>\n      <td>-0.002</td>\n      <td>-0.008</td>\n    </tr>\n    <tr>\n      <th>support</th>\n      <td>-540.000</td>\n      <td>0.0</td>\n      <td>-0.008</td>\n      <td>-540.000</td>\n      <td>-540.000</td>\n    </tr>\n  </tbody>\n</table>\n</div>"
     },
     "metadata": {},
     "output_type": "display_data"
    },
    {
     "name": "stdout",
     "output_type": "stream",
     "text": [
      "[[ 1.31629625e+00  1.78304811e+00]\n",
      " [-1.22892944e-01  1.10470444e-01]\n",
      " [ 4.95097550e-01  7.51184989e-01]\n",
      " [ 7.25966820e-01  8.55419653e-01]\n",
      " [-4.46246329e-01 -1.84458820e-01]\n",
      " [ 7.49115121e-01  2.39935588e-01]\n",
      " [-2.51688227e-02 -2.91205983e-01]\n",
      " [ 1.54130051e-01  1.00665096e-01]\n",
      " [ 4.20313250e-02  7.28320990e-01]\n",
      " [ 1.10724499e-01 -2.87734648e-01]\n",
      " [ 6.86914106e-01  2.34418093e-01]\n",
      " [ 1.21496447e-02  1.54855187e-01]\n",
      " [-4.70955883e-01  4.50036449e-01]\n",
      " [ 5.60135533e-01  9.04112687e-02]\n",
      " [ 3.30519323e-01  3.74385106e-01]\n",
      " [ 1.27407560e+00  7.61764507e-01]\n",
      " [ 7.48316547e-01  8.41502377e-01]\n",
      " [ 2.64455830e-01  5.15987703e-01]\n",
      " [-4.54185287e-01  4.58422520e-01]\n",
      " [ 7.97819742e-02  3.31821599e-01]\n",
      " [-4.70182875e-02  1.11346156e+00]\n",
      " [ 8.88865327e-01  4.94287551e-01]\n",
      " [ 9.50064707e-01  6.36991328e-01]\n",
      " [ 1.00510688e+00  5.95751845e-01]\n",
      " [ 1.19212040e+00  7.41972025e-01]\n",
      " [ 9.58181232e-01  3.45479453e-01]\n",
      " [ 4.38181485e-01  2.26643842e-01]\n",
      " [ 5.54400009e-02  4.73954474e-01]\n",
      " [ 2.73791557e-01  9.83913421e-01]\n",
      " [ 4.28641402e-01  8.64562287e-01]\n",
      " [-2.04932576e-01 -2.34646285e-01]\n",
      " [ 3.54081824e-01  9.39198821e-01]\n",
      " [-4.30210626e-01 -6.95884440e-02]\n",
      " [ 5.24411749e-01  9.09426858e-01]\n",
      " [ 3.98959579e-01  4.86847522e-01]\n",
      " [ 5.49369391e-01 -2.45157421e-02]\n",
      " [ 6.43014565e-01  6.85733911e-01]\n",
      " [ 1.05342690e-01  7.61878415e-01]\n",
      " [-5.93895902e-02 -1.04588882e-01]\n",
      " [-3.19566292e-02  9.80868607e-01]\n",
      " [ 7.81779283e-01  5.41483249e-01]\n",
      " [ 7.32474021e-01  8.84486138e-01]\n",
      " [ 8.03839365e-01  8.33914014e-01]\n",
      " [ 3.13442245e-01  4.17502941e-01]\n",
      " [ 4.91978785e-01  8.50062592e-01]\n",
      " [ 7.93706309e-01  5.21675760e-01]\n",
      " [ 1.17944968e-01  5.96666246e-01]\n",
      " [ 8.58595725e-01  4.27433674e-01]\n",
      " [ 3.10849695e-01  6.68177640e-01]\n",
      " [ 9.50010996e-01  7.41979736e-01]\n",
      " [ 1.48143492e-01  7.17889866e-01]\n",
      " [ 9.76615783e-01  7.82064500e-01]\n",
      " [ 7.87632730e-01  4.24320598e-01]\n",
      " [ 1.30825213e+00  6.93842873e-01]\n",
      " [ 1.35562740e+00  7.48654334e-01]\n",
      " [ 4.09696845e-01  7.09306738e-01]\n",
      " [ 1.29482791e+00  3.90246066e-01]\n",
      " [-5.66661756e-01  1.49321999e-01]\n",
      " [ 8.99815074e-02 -1.13945794e-02]\n",
      " [ 1.30743071e+00  7.58222573e-01]\n",
      " [ 6.08125185e-01  5.92933237e-01]\n",
      " [ 8.50384892e-01  2.18944672e-01]\n",
      " [ 5.16014106e-01 -4.43131703e-02]\n",
      " [ 7.68174717e-01  4.29045819e-01]\n",
      " [ 1.32483697e-01 -5.37574384e-01]\n",
      " [ 5.88902250e-01  8.79828917e-01]\n",
      " [ 7.81150147e-01  4.93240649e-01]\n",
      " [ 4.71529266e-01  7.94306536e-01]\n",
      " [ 6.05053275e-01  8.92244711e-01]\n",
      " [ 9.59876224e-01  8.48375081e-01]\n",
      " [-1.29753730e-01  5.24280428e-01]\n",
      " [ 9.25009282e-01  2.97613502e-01]\n",
      " [ 9.21160242e-01  8.46386294e-01]\n",
      " [ 4.88284004e-01  5.71190803e-01]\n",
      " [ 3.72796694e-01  7.72725234e-01]\n",
      " [ 6.98251399e-01  7.41312775e-01]\n",
      " [ 3.44135372e-01  7.12169594e-01]\n",
      " [ 2.88719692e-01  7.12996704e-02]\n",
      " [ 8.83156220e-01  5.77691696e-01]\n",
      " [ 3.92852980e-01  2.78526018e-01]\n",
      " [ 4.13859490e-01  5.17543682e-01]\n",
      " [ 1.83158260e-01  1.07141766e+00]\n",
      " [ 3.40217835e-01  7.74257608e-02]\n",
      " [ 6.22690594e-01  6.16625212e-01]\n",
      " [ 7.56943359e-01 -1.01928723e-01]\n",
      " [ 7.92225284e-01  5.71676786e-01]\n",
      " [ 1.59977190e-01  6.51008300e-01]\n",
      " [ 1.02557260e+00  7.71468272e-01]\n",
      " [ 1.79818961e-01  3.27863492e-01]\n",
      " [-8.54582621e-03  4.60634497e-01]\n",
      " [ 1.04363670e+00  2.53369066e-01]\n",
      " [ 5.37982804e-01  6.80504549e-01]\n",
      " [-7.15589282e-02  4.48863066e-01]\n",
      " [ 1.45176419e+00  7.00812215e-01]\n",
      " [ 1.73948964e-01  4.79233206e-01]\n",
      " [-1.11167808e-01  2.02143751e-02]\n",
      " [-2.13666208e-01  8.92982755e-01]\n",
      " [ 1.49222039e+00  2.86004716e-01]\n",
      " [ 1.30439713e+00  6.90004063e-01]\n",
      " [ 2.32547730e-01  3.24611612e-01]\n",
      " [ 5.52581732e-01  3.35252966e-01]\n",
      " [ 7.91674986e-01  8.21291662e-01]\n",
      " [-3.61937229e-01  5.28415188e-01]\n",
      " [ 9.99132159e-01  4.08049950e-01]\n",
      " [-1.16718646e-01  8.23256974e-02]\n",
      " [ 3.43458607e-01  9.88772816e-01]\n",
      " [ 1.87722255e-01  7.53317469e-01]\n",
      " [ 9.13394525e-01  2.31832671e-01]\n",
      " [-4.44512184e-01 -3.44193184e-01]\n",
      " [ 7.05595936e-01  1.02519962e-01]\n",
      " [ 6.54561868e-01  9.06695260e-01]\n",
      " [ 9.38490330e-01  7.78608776e-01]\n",
      " [-1.37588472e+00 -5.14832978e-01]\n",
      " [ 6.69060014e-01  2.69655063e-01]\n",
      " [-2.64905862e-01  7.78807624e-04]\n",
      " [ 3.42204830e-01  4.80997513e-01]\n",
      " [ 1.11134222e+00  5.28817114e-01]\n",
      " [ 7.70554485e-01  4.38594782e-01]\n",
      " [-2.35233561e-01  1.16830580e-01]\n",
      " [ 4.03034320e-01  6.01158213e-01]\n",
      " [ 4.64184756e-01  6.34615490e-01]\n",
      " [ 4.17137702e-01  3.81301658e-01]\n",
      " [ 3.28687020e-01  8.34330152e-01]\n",
      " [-2.26705086e-01 -3.22468853e-01]\n",
      " [ 1.86139757e-01  4.13377075e-01]\n",
      " [-6.09129947e-01  2.81292499e-02]\n",
      " [ 5.56931551e-01  6.34122777e-01]\n",
      " [-1.72688351e-01  4.70785915e-01]\n",
      " [ 2.45801193e-01  6.85659884e-01]\n",
      " [ 6.99960261e-01  3.32999142e-01]\n",
      " [ 7.42526599e-01  9.22360400e-01]\n",
      " [-5.82689814e-02  4.28817749e-01]\n",
      " [ 6.21889460e-01  5.99288788e-01]\n",
      " [-6.57059291e-01  3.15327251e-01]\n",
      " [ 1.08048307e+00  7.80922156e-01]\n",
      " [ 7.11401611e-01  7.58859340e-01]\n",
      " [ 7.35358358e-01  8.76936642e-01]\n",
      " [ 1.40495560e+00  7.42634012e-01]\n",
      " [ 8.66233888e-01  3.43071836e-01]\n",
      " [ 3.24116483e-01  5.35153758e-01]\n",
      " [ 3.91429124e-01  2.82374536e-01]\n",
      " [ 2.93921746e-01 -2.66030556e-01]\n",
      " [ 9.75752938e-01  6.10962764e-01]\n",
      " [ 6.55433154e-01  3.83630708e-01]\n",
      " [ 6.37772764e-01  8.00683729e-01]\n",
      " [ 7.82699161e-01  1.07127216e-01]\n",
      " [ 7.07068543e-01  7.66426446e-01]\n",
      " [ 1.63478962e-01  3.87428448e-02]\n",
      " [ 1.78109914e-02  6.59130508e-01]\n",
      " [ 3.90919981e-01  6.06273447e-01]\n",
      " [ 1.04332155e+00  8.24873335e-01]\n",
      " [ 1.01859940e+00  5.56549829e-01]\n",
      " [ 7.75873024e-01  5.58189073e-01]\n",
      " [ 5.03754253e-01  1.00602423e+00]\n",
      " [ 2.43775893e-01  3.29112214e-01]\n",
      " [ 7.03643561e-01  8.55588796e-01]\n",
      " [-2.28892263e-01 -1.16194242e-01]\n",
      " [ 1.31327518e+00  5.20087415e-01]\n",
      " [ 2.60390126e-01  6.70208259e-01]\n",
      " [ 4.33018626e-01  6.22793082e-01]\n",
      " [ 1.16425445e+00  3.48575104e-01]\n",
      " [ 7.32379603e-02 -2.79132511e-01]\n",
      " [ 1.21630292e-02 -1.83556940e-01]\n",
      " [-3.78104312e-01 -2.33755811e-01]\n",
      " [ 7.97123168e-01  8.78960707e-01]\n",
      " [ 4.19439543e-01  4.56149664e-01]\n",
      " [ 9.57635503e-01  6.73009143e-01]\n",
      " [ 8.24910161e-02  7.66373273e-01]\n",
      " [ 6.20877925e-01  6.46824059e-01]\n",
      " [-1.04012562e+00 -8.10303139e-01]\n",
      " [ 6.38530459e-02  4.84978220e-01]\n",
      " [ 3.99464532e-01  5.12545778e-01]\n",
      " [ 2.92422890e-01  4.96240632e-01]\n",
      " [-3.14160759e-01  2.32643213e-01]\n",
      " [-2.75664036e-01 -5.43086742e-01]\n",
      " [ 4.62917287e-01  7.29249979e-01]\n",
      " [ 9.29780434e-01  7.06246714e-01]\n",
      " [-2.87682883e-02  4.69131148e-01]\n",
      " [ 1.31043583e+00  6.14252411e-01]\n",
      " [ 1.01937861e+00  6.63824815e-01]\n",
      " [ 9.70017939e-01  6.44829891e-01]\n",
      " [ 3.30961950e-01  4.27959177e-01]\n",
      " [ 4.45867044e-01  6.38622648e-01]\n",
      " [ 1.00337797e+00  7.67331797e-01]\n",
      " [ 5.30643529e-01  6.67175759e-01]\n",
      " [-2.92288679e-01  3.46637778e-01]\n",
      " [-3.93190112e-02  2.26087875e-01]\n",
      " [ 9.76916717e-01  5.62048218e-01]\n",
      " [ 1.19647400e+00  7.51339424e-01]\n",
      " [ 1.02938561e+00  6.72699059e-01]\n",
      " [ 7.63844542e-01  9.00256611e-01]\n",
      " [ 5.38016627e-01  7.93769742e-01]\n",
      " [ 5.57628758e-01  5.38757790e-02]\n",
      " [ 9.42008508e-02  2.61620048e-01]\n",
      " [ 5.07473296e-01  9.19019293e-01]\n",
      " [ 7.44096859e-01  5.73665376e-01]\n",
      " [ 8.86358375e-03  3.05557101e-01]\n",
      " [ 1.21203416e+00  7.38470002e-01]\n",
      " [ 2.33706738e-01  5.17567426e-01]\n",
      " [ 8.92715627e-01  7.17595337e-01]\n",
      " [ 4.63130342e-01  3.20770806e-01]\n",
      " [ 1.12561629e+00  5.48029570e-01]\n",
      " [ 4.76857548e-01  2.61314099e-01]\n",
      " [ 3.16064767e-01  7.12758674e-01]\n",
      " [ 9.47551219e-01  6.06842347e-01]\n",
      " [-4.70644989e-01 -3.93221194e-01]\n",
      " [ 1.16360652e+00  7.63514079e-01]\n",
      " [ 6.60274897e-01  7.21868267e-01]\n",
      " [ 6.68303398e-01  8.93007335e-01]\n",
      " [-1.16561050e-01  2.71237781e-01]\n",
      " [ 8.72055568e-02  3.74604564e-01]\n",
      " [ 1.81600975e-02  2.28204994e-02]\n",
      " [ 7.49636182e-01  8.63918141e-01]\n",
      " [ 4.44889254e-01  8.81005268e-01]\n",
      " [ 5.73524885e-01  8.68645162e-01]\n",
      " [ 8.72595280e-01  8.61274644e-01]\n",
      " [-3.02096075e-01  2.16790852e-01]\n",
      " [-3.47789479e-01  6.07537925e-02]\n",
      " [ 8.95033980e-01  8.55325409e-01]\n",
      " [-4.93546052e-01 -8.54915492e-02]\n",
      " [ 4.78555949e-01 -2.14184243e-01]\n",
      " [ 7.91867334e-01  4.19385105e-01]\n",
      " [ 1.82127449e-01  6.61140963e-01]\n",
      " [ 6.29377151e-01  6.36548155e-01]\n",
      " [ 4.03416197e-01  9.43798739e-02]\n",
      " [ 3.22446883e-01 -1.45281361e-01]\n",
      " [ 1.22177061e+00  3.60120043e-01]\n",
      " [ 6.96032062e-01  9.11909357e-01]\n",
      " [ 1.22510997e+00  7.20654506e-01]\n",
      " [ 1.29262841e+00  6.55641834e-01]\n",
      " [ 7.69262395e-01  3.38954034e-01]\n",
      " [ 6.75818034e-01  8.49606329e-01]\n",
      " [-1.64779134e-01  7.05937961e-02]\n",
      " [ 7.90211475e-01  7.34697394e-01]\n",
      " [ 1.81070027e-01  4.14273769e-01]\n",
      " [ 6.39062187e-01  7.41756608e-01]\n",
      " [ 4.03955631e-01  6.69946150e-01]\n",
      " [-1.74566295e-01  8.21479068e-02]\n",
      " [-3.22347530e-01 -5.83720710e-01]\n",
      " [-2.07513541e-01  4.20665014e-01]\n",
      " [ 1.05668986e-01  3.13511083e-01]\n",
      " [ 8.87277181e-01  8.59358418e-01]\n",
      " [ 7.03629824e-01  8.69320240e-01]\n",
      " [ 9.73694213e-01  7.46001836e-01]\n",
      " [ 7.75967070e-01  8.42950546e-01]\n",
      " [-1.30850867e-01  3.10220038e-01]\n",
      " [-9.96886273e-01 -4.74382245e-02]\n",
      " [ 7.30864240e-01  7.29779237e-01]\n",
      " [ 1.75699904e-01  4.60973695e-01]\n",
      " [ 2.62362725e-01  7.49024000e-01]\n",
      " [ 6.34790477e-01  7.76388958e-01]\n",
      " [-2.74516647e-01  3.70782487e-01]\n",
      " [ 1.38879877e+00  5.03289837e-01]\n",
      " [ 3.96364490e-01  7.96493448e-01]\n",
      " [ 5.79484122e-01  4.60067299e-01]\n",
      " [ 3.25782078e-01  1.06839431e+00]\n",
      " [ 1.15260550e-01  8.18468187e-01]\n",
      " [ 5.03895156e-01  7.83294861e-02]\n",
      " [ 3.05584376e-01  4.47960696e-01]\n",
      " [ 1.26386655e+00 -1.11724580e-01]\n",
      " [ 8.30849333e-01  5.52836526e-01]\n",
      " [ 6.95065674e-01  5.80500419e-01]\n",
      " [ 6.18997547e-02  4.30550426e-01]\n",
      " [-2.54395055e-01  1.07637975e+00]\n",
      " [ 4.06743200e-01  1.68735328e-01]\n",
      " [ 3.52353613e-01  7.74158108e-01]\n",
      " [ 5.52361115e-01 -2.50283243e-01]\n",
      " [ 8.58566407e-01  5.12907880e-01]\n",
      " [ 2.54845231e-01  2.97825400e-01]\n",
      " [ 2.42312204e-01  2.38575629e-01]\n",
      " [ 5.23957094e-01  8.16146983e-01]\n",
      " [ 2.16938198e-01  4.06379475e-01]\n",
      " [ 1.66628383e-01  6.72354783e-01]\n",
      " [-1.57212218e-01  6.07619512e-02]\n",
      " [ 3.65401226e-01  6.91483792e-01]\n",
      " [ 8.28092052e-02  1.18667088e-01]\n",
      " [ 8.81747507e-01  5.13466415e-01]\n",
      " [ 2.04349696e-01  3.41491765e-01]\n",
      " [ 3.27036934e-01  2.88287370e-01]\n",
      " [ 1.02492978e+00  7.96667391e-01]\n",
      " [ 6.29344660e-01  7.26546097e-01]\n",
      " [ 2.60040384e-01  3.28672403e-02]\n",
      " [ 7.35841126e-01  8.14544473e-01]\n",
      " [ 3.11367870e-02  5.19097730e-01]\n",
      " [-2.36152030e-01 -1.98879080e-01]\n",
      " [ 9.50870360e-01  7.46520258e-01]\n",
      " [ 2.83631078e-01  4.85785966e-02]\n",
      " [-4.11496357e-03  2.28448162e-03]\n",
      " [ 6.44179315e-01  8.30240271e-01]\n",
      " [ 1.06866834e+00  7.96892103e-01]\n",
      " [ 4.89213338e-01  7.59648005e-01]\n",
      " [-1.04946871e-01  4.09305762e-01]\n",
      " [ 1.08715366e+00  2.96525703e-01]\n",
      " [ 4.31239806e-02  4.07236931e-01]\n",
      " [-7.86430729e-02  1.67048207e-01]\n",
      " [ 1.04841966e+00  8.24762113e-01]\n",
      " [ 5.31052149e-01  2.58793285e-01]\n",
      " [ 1.50312644e-01  5.72358102e-01]\n",
      " [-4.00404820e-01  2.03019914e-01]\n",
      " [ 3.80306562e-01  1.95512049e-01]\n",
      " [ 1.02036427e+00  5.85440603e-01]\n",
      " [ 7.90576754e-01 -2.58575140e-02]\n",
      " [ 9.24606923e-02  1.05091606e-01]\n",
      " [-4.11292965e-01  5.06532786e-01]\n",
      " [ 5.26559041e-01  8.21179855e-01]\n",
      " [ 6.74806801e-01  6.71172331e-01]\n",
      " [ 4.07670119e-01  5.51989095e-01]\n",
      " [ 6.13875239e-01  8.30071623e-01]\n",
      " [ 6.14907814e-01  8.40692977e-01]\n",
      " [ 7.22121759e-01  4.67396624e-01]\n",
      " [ 5.77105137e-01  6.27831986e-01]\n",
      " [ 5.69221562e-01  8.52282945e-01]\n",
      " [ 6.96718882e-02  3.21298410e-01]\n",
      " [-3.22478834e-01 -7.30381566e-01]\n",
      " [ 1.66817205e-01  6.11765358e-01]\n",
      " [ 6.23838843e-01  8.24292051e-02]\n",
      " [-1.77455621e-01  2.88940718e-01]\n",
      " [ 4.64305666e-01  2.46015554e-01]\n",
      " [-2.26964024e-02  6.88891254e-01]\n",
      " [ 5.15916660e-02  2.18181887e-01]\n",
      " [ 1.34647956e+00  6.37088197e-01]\n",
      " [ 8.50962277e-02  3.19895985e-01]\n",
      " [ 6.88895420e-01  1.01504048e-01]\n",
      " [ 7.93909852e-01  3.46696630e-01]\n",
      " [ 1.48036184e+00  7.03888657e-01]\n",
      " [ 2.25336887e-01  3.00073224e-01]\n",
      " [ 6.98400105e-01  8.13363998e-01]\n",
      " [ 1.25646915e+00  7.52406925e-01]\n",
      " [-4.90327146e-01  1.31566596e-01]\n",
      " [-1.82421461e-01  5.69320990e-01]\n",
      " [-3.18402768e-02  4.94470941e-01]\n",
      " [ 1.23090828e+00  7.50738191e-01]\n",
      " [ 1.12196733e+00  6.95135314e-01]\n",
      " [ 6.41892152e-01  4.54021756e-01]\n",
      " [ 1.43899062e-01  1.11840135e+00]\n",
      " [ 3.51437464e-01 -5.37485326e-02]\n",
      " [-1.05387851e-01  6.04955149e-02]\n",
      " [ 6.29896942e-01  3.53400482e-01]\n",
      " [ 2.88583034e-02  2.38426218e-01]\n",
      " [-8.35355837e-01 -1.70029755e-01]\n",
      " [ 6.41652041e-01  7.14900211e-01]\n",
      " [ 8.28825227e-01  2.83655371e-01]\n",
      " [ 5.22825496e-01  7.37944186e-01]\n",
      " [-2.89860340e-01  3.43147620e-01]\n",
      " [ 6.74326007e-01  7.19498571e-01]\n",
      " [ 3.89424622e-01  8.04873211e-01]\n",
      " [ 1.15352349e+00  8.06855735e-01]\n",
      " [ 5.04036292e-01  3.39351571e-01]\n",
      " [-6.15197280e-02  7.06089722e-01]\n",
      " [ 4.23217613e-01  9.97629255e-01]\n",
      " [ 6.82346400e-01  8.05037589e-01]\n",
      " [ 4.68135828e-01  6.41203887e-01]\n",
      " [-2.68608562e-01  5.73314910e-01]\n",
      " [ 5.41325738e-01  4.96508672e-01]\n",
      " [ 4.61471259e-01  8.79604707e-01]\n",
      " [ 3.93659794e-01  9.17812485e-01]\n",
      " [ 3.06894403e-01  7.51496413e-01]\n",
      " [ 6.33264968e-01  3.51099360e-01]\n",
      " [ 1.17676061e+00  5.78685532e-01]\n",
      " [-6.72512063e-01 -1.98715565e-01]\n",
      " [ 1.91151444e-01  1.25536304e-01]\n",
      " [ 2.23978730e-01  2.90165381e-01]\n",
      " [-4.61129563e-01  7.87326317e-02]\n",
      " [ 2.57070660e-01  4.39595676e-01]\n",
      " [ 9.10422400e-01  6.44517264e-01]\n",
      " [ 6.59568033e-01  8.28700730e-01]\n",
      " [ 7.73574662e-01  6.08166986e-01]\n",
      " [ 1.16723216e-01  2.31546371e-01]\n",
      " [ 5.92538398e-01  9.59900398e-01]\n",
      " [ 1.94225680e-01  4.27740960e-01]\n",
      " [-1.45535450e-01  2.60910278e-01]\n",
      " [ 5.51127938e-01  7.40718745e-01]\n",
      " [-9.01221202e-02 -8.19428878e-02]\n",
      " [ 3.48551368e-02  6.66233877e-02]\n",
      " [-6.46651466e-01 -3.01396343e-01]\n",
      " [ 6.88121550e-01  3.61504053e-01]\n",
      " [ 4.12012809e-01  1.61264725e-01]\n",
      " [ 1.04381353e+00  6.48160283e-01]\n",
      " [ 9.95690454e-02  9.90087691e-01]\n",
      " [ 1.00680009e+00  7.93183428e-01]\n",
      " [-1.18430792e-01  7.49919622e-01]\n",
      " [ 1.27872848e+00  4.49075038e-01]\n",
      " [ 4.97591791e-01  3.16628978e-01]\n",
      " [ 3.32546544e-01  3.61130506e-01]\n",
      " [ 8.49335088e-01  8.12715851e-01]\n",
      " [ 1.43269308e+00  6.33766477e-01]\n",
      " [-2.60457054e-02 -1.92513337e-01]\n",
      " [ 7.97715015e-01  5.78454332e-01]\n",
      " [ 8.20338574e-01  5.10240524e-01]\n",
      " [-1.53426251e-02 -2.99625419e-01]\n",
      " [ 3.80132008e-01  2.13260896e-01]\n",
      " [-4.14125369e-01 -3.95633661e-01]\n",
      " [ 1.36339747e+00  5.58212879e-01]\n",
      " [ 6.91988836e-01  8.25076191e-01]\n",
      " [ 3.67781938e-01  3.68492323e-01]\n",
      " [ 9.48580041e-01  7.67008999e-01]\n",
      " [ 3.88124552e-01  3.96793228e-01]\n",
      " [ 4.16553489e-01  6.55439834e-01]\n",
      " [ 2.14810904e-02  3.41747585e-01]\n",
      " [ 4.77228423e-01  4.65947594e-01]\n",
      " [ 2.32231547e-01  4.78589775e-01]\n",
      " [ 1.57530727e+00  6.78710433e-01]\n",
      " [ 9.38648521e-01  3.85315799e-01]\n",
      " [ 8.02822429e-01  2.04840470e-01]\n",
      " [ 3.59356031e-01  4.98279801e-01]\n",
      " [-1.02986160e-01  2.83964013e-02]\n",
      " [-5.80353036e-01  3.99993631e-01]\n",
      " [ 7.98722579e-01  4.25553430e-01]\n",
      " [ 6.42531813e-01  5.63602432e-01]\n",
      " [ 2.86785267e-01  5.69085254e-01]\n",
      " [ 5.10216405e-01  8.17741281e-01]\n",
      " [-4.41523765e-02  1.56971082e-01]\n",
      " [ 1.12658012e+00  5.85162533e-01]\n",
      " [-7.89302613e-01 -2.18181538e-01]\n",
      " [ 3.26866289e-01  2.74758228e-01]\n",
      " [ 1.19060977e+00  7.91711994e-01]\n",
      " [ 4.05839165e-01 -9.16285864e-02]\n",
      " [ 6.51703905e-01  7.73208444e-01]\n",
      " [ 1.55785560e-01  9.42119781e-01]\n",
      " [ 6.18508915e-01  5.60300469e-01]\n",
      " [ 9.07969181e-01  7.76554257e-01]\n",
      " [ 1.20288537e+00  4.26053557e-01]\n",
      " [ 1.07469448e+00  3.85381009e-01]\n",
      " [-7.07310665e-01  4.68539625e-01]\n",
      " [ 3.87989477e-01  7.88101411e-01]\n",
      " [ 8.25603916e-01  7.72247354e-01]\n",
      " [-8.25322503e-02  1.46233680e-02]\n",
      " [-5.94466479e-01  1.44179038e-01]\n",
      " [ 9.82118617e-01  5.21465016e-01]\n",
      " [ 4.44231434e-01  5.74550754e-01]\n",
      " [ 6.52459078e-01  1.24853904e-01]\n",
      " [-3.86610688e-01  4.79226626e-01]\n",
      " [ 5.09654156e-01  8.68338942e-01]\n",
      " [ 7.53861095e-01  9.14245421e-01]\n",
      " [ 6.15144669e-01  8.15527107e-01]\n",
      " [ 6.22279557e-01  8.24415648e-01]\n",
      " [ 4.58346056e-02  7.00596797e-01]\n",
      " [ 8.97089778e-01  5.15756136e-01]\n",
      " [ 5.37793146e-01  3.94343586e-01]\n",
      " [-1.97373130e-01  4.62045486e-01]\n",
      " [ 6.58782938e-01  2.06823222e-01]\n",
      " [ 5.66037774e-01  1.75291051e-01]\n",
      " [ 6.02113349e-01  2.75135831e-02]\n",
      " [-5.56625362e-01 -1.59837254e-01]\n",
      " [ 5.00888938e-01  2.79762834e-01]\n",
      " [ 9.01326983e-01  6.68059906e-01]\n",
      " [-7.33374177e-02  2.12684999e-01]\n",
      " [ 2.70841320e-01  8.85916134e-01]\n",
      " [ 8.01922046e-01  7.53960374e-01]\n",
      " [ 1.06274061e+00  2.47382825e-01]\n",
      " [ 3.36058634e-01 -1.33226151e+00]\n",
      " [ 1.44918249e+00 -1.01812046e+00]\n",
      " [ 1.77435608e+00 -1.19009140e+00]\n",
      " [ 1.83918541e+00 -1.89493261e+00]\n",
      " [ 9.50228639e-01 -1.60630739e-01]\n",
      " [ 7.01440041e-01 -5.22488969e-01]\n",
      " [ 1.02462576e+00 -1.32988238e+00]\n",
      " [ 3.05908054e-01 -9.73069793e-01]\n",
      " [ 6.69120021e-01 -1.02147470e-01]\n",
      " [ 1.95086426e-01 -2.10445975e-01]]\n"
     ]
    },
    {
     "data": {
      "text/plain": "<Figure size 432x288 with 1 Axes>",
      "image/png": "[encoded data removed]"
     },
     "metadata": {
      "needs_background": "light"
     },
     "output_type": "display_data"
    }
   ],
   "source": [
    "report(OneSidedSelection(),dummy_X, dummy_y,base_scores_dummy,True)"
   ]
  },
  {
   "cell_type": "markdown",
   "metadata": {
    "pycharm": {
     "name": "#%% md\n"
    }
   },
   "source": [
    "##### Satimage"
   ]
  },
  {
   "cell_type": "code",
   "execution_count": null,
   "metadata": {
    "pycharm": {
     "name": "#%%\n"
    }
   },
   "outputs": [],
   "source": [
    "report(OneSidedSelection(),satimage_X, satimage_y, base_scores_satimage)"
   ]
  },
  {
   "cell_type": "markdown",
   "metadata": {
    "pycharm": {
     "name": "#%% md\n"
    }
   },
   "source": [
    "#### SafeLevelSmote"
   ]
  },
  {
   "cell_type": "markdown",
   "source": [
    "##### Dummy dataset"
   ],
   "metadata": {
    "collapsed": false,
    "pycharm": {
     "name": "#%% md\n"
    }
   }
  },
  {
   "cell_type": "code",
   "execution_count": 10,
   "metadata": {},
   "outputs": [
    {
     "data": {
      "text/plain": "               0       1  accuracy  macro avg  weighted avg\nprecision  0.001   0.072    -0.002      0.037        -0.001\nrecall    -0.003   0.250    -0.002      0.123        -0.002\nf1-score  -0.001   0.159    -0.002      0.079        -0.001\nsupport    0.000  10.000    -0.002     10.000        10.000",
      "text/html": "<div>\n<style scoped>\n    .dataframe tbody tr th:only-of-type {\n        vertical-align: middle;\n    }\n\n    .dataframe tbody tr th {\n        vertical-align: top;\n    }\n\n    .dataframe thead th {\n        text-align: right;\n    }\n</style>\n<table border=\"1\" class=\"dataframe\">\n  <thead>\n    <tr style=\"text-align: right;\">\n      <th></th>\n      <th>0</th>\n      <th>1</th>\n      <th>accuracy</th>\n      <th>macro avg</th>\n      <th>weighted avg</th>\n    </tr>\n  </thead>\n  <tbody>\n    <tr>\n      <th>precision</th>\n      <td>0.001</td>\n      <td>0.072</td>\n      <td>-0.002</td>\n      <td>0.037</td>\n      <td>-0.001</td>\n    </tr>\n    <tr>\n      <th>recall</th>\n      <td>-0.003</td>\n      <td>0.250</td>\n      <td>-0.002</td>\n      <td>0.123</td>\n      <td>-0.002</td>\n    </tr>\n    <tr>\n      <th>f1-score</th>\n      <td>-0.001</td>\n      <td>0.159</td>\n      <td>-0.002</td>\n      <td>0.079</td>\n      <td>-0.001</td>\n    </tr>\n    <tr>\n      <th>support</th>\n      <td>0.000</td>\n      <td>10.000</td>\n      <td>-0.002</td>\n      <td>10.000</td>\n      <td>10.000</td>\n    </tr>\n  </tbody>\n</table>\n</div>"
     },
     "metadata": {},
     "output_type": "display_data"
    },
    {
     "name": "stdout",
     "output_type": "stream",
     "text": [
      "[[-0.12289294  0.11047044]\n",
      " [ 0.33605863 -1.33226151]\n",
      " [ 1.40439918  1.41694259]\n",
      " ...\n",
      " [ 0.52627384 -0.79504618]\n",
      " [ 0.66912002 -0.10214747]\n",
      " [ 0.15384441 -0.24407696]]\n"
     ]
    },
    {
     "data": {
      "text/plain": "<Figure size 432x288 with 1 Axes>",
      "image/png": "[encoded data removed]"
     },
     "metadata": {
      "needs_background": "light"
     },
     "output_type": "display_data"
    }
   ],
   "source": [
    "report(SafeLevelSmote(),dummy_X, dummy_y,base_scores_dummy,True)"
   ]
  },
  {
   "cell_type": "markdown",
   "source": [
    "##### Satimage"
   ],
   "metadata": {
    "collapsed": false,
    "pycharm": {
     "name": "#%% md\n"
    }
   }
  },
  {
   "cell_type": "code",
   "execution_count": 15,
   "metadata": {
    "pycharm": {
     "name": "#%%\n"
    }
   },
   "outputs": [
    {
     "data": {
      "text/plain": "             0.0      1.0  accuracy  macro avg  weighted avg\nprecision  0.007    0.215     0.008      0.111         0.009\nrecall    -0.008    0.254     0.008      0.123         0.008\nf1-score  -0.001    0.233     0.008      0.116         0.008\nsupport    0.000  625.000     0.008    625.000       625.000",
      "text/html": "<div>\n<style scoped>\n    .dataframe tbody tr th:only-of-type {\n        vertical-align: middle;\n    }\n\n    .dataframe tbody tr th {\n        vertical-align: top;\n    }\n\n    .dataframe thead th {\n        text-align: right;\n    }\n</style>\n<table border=\"1\" class=\"dataframe\">\n  <thead>\n    <tr style=\"text-align: right;\">\n      <th></th>\n      <th>0.0</th>\n      <th>1.0</th>\n      <th>accuracy</th>\n      <th>macro avg</th>\n      <th>weighted avg</th>\n    </tr>\n  </thead>\n  <tbody>\n    <tr>\n      <th>precision</th>\n      <td>0.007</td>\n      <td>0.215</td>\n      <td>0.008</td>\n      <td>0.111</td>\n      <td>0.009</td>\n    </tr>\n    <tr>\n      <th>recall</th>\n      <td>-0.008</td>\n      <td>0.254</td>\n      <td>0.008</td>\n      <td>0.123</td>\n      <td>0.008</td>\n    </tr>\n    <tr>\n      <th>f1-score</th>\n      <td>-0.001</td>\n      <td>0.233</td>\n      <td>0.008</td>\n      <td>0.116</td>\n      <td>0.008</td>\n    </tr>\n    <tr>\n      <th>support</th>\n      <td>0.000</td>\n      <td>625.000</td>\n      <td>0.008</td>\n      <td>625.000</td>\n      <td>625.000</td>\n    </tr>\n  </tbody>\n</table>\n</div>"
     },
     "metadata": {},
     "output_type": "display_data"
    }
   ],
   "source": [
    "report(SafeLevelSmote(),satimage_X, satimage_y, base_scores_satimage)"
   ]
  }
 ],
 "metadata": {
  "kernelspec": {
   "display_name": "Python 3 (ipykernel)",
   "language": "python",
   "name": "python3"
  },
  "language_info": {
   "codemirror_mode": {
    "name": "ipython",
    "version": 3
   },
   "file_extension": ".py",
   "mimetype": "text/x-python",
   "name": "python",
   "nbconvert_exporter": "python",
   "pygments_lexer": "ipython3",
   "version": "3.9.7"
  }
 },
 "nbformat": 4,
 "nbformat_minor": 1
}